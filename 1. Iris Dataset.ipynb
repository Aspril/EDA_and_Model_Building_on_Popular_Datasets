{
 "cells": [
  {
   "cell_type": "markdown",
   "metadata": {},
   "source": [
    "# Import Libraries\n",
    "Includes\n",
    "* scipy\n",
    "* numpy\n",
    "* matplotlib\n",
    "* pandas\n",
    "* sklearn"
   ]
  },
  {
   "cell_type": "code",
   "execution_count": 105,
   "metadata": {},
   "outputs": [],
   "source": [
    "import scipy\n",
    "import numpy\n",
    "import matplotlib\n",
    "import pandas\n",
    "\n",
    "import sklearn\n",
    "from sklearn import model_selection # for splitting into train and test\n",
    "from sklearn import linear_model # for logistic model\n",
    "from sklearn import discriminant_analysis # for LinearDiscriminantAnalysis model\n",
    "from sklearn import tree # for decision tree\n",
    "from sklearn import naive_bayes"
   ]
  },
  {
   "cell_type": "markdown",
   "metadata": {},
   "source": [
    "# Read Data"
   ]
  },
  {
   "cell_type": "code",
   "execution_count": 328,
   "metadata": {},
   "outputs": [],
   "source": [
    "dataset=pandas.read_csv('Data/iris.data.txt', names=['SepalLength','SepalWidth','PetalLength','PetalWidth','Class'])"
   ]
  },
  {
   "cell_type": "markdown",
   "metadata": {},
   "source": [
    "# Summarize the Dataset\n",
    "\n",
    "In this step we are going to take a look at the data a few different ways:\n",
    "\n",
    "1. Dimensions of the dataset.\n",
    "2. Look at the data itself.\n",
    "3. Statistical summary of all attributes.\n",
    "4. Breakdown of the data by the class variable."
   ]
  },
  {
   "cell_type": "code",
   "execution_count": 25,
   "metadata": {},
   "outputs": [
    {
     "name": "stdout",
     "output_type": "stream",
     "text": [
      "(150, 5)\n"
     ]
    }
   ],
   "source": [
    "# 1. Dimensions of Dataset\n",
    "print(dataset.shape)"
   ]
  },
  {
   "cell_type": "code",
   "execution_count": 27,
   "metadata": {},
   "outputs": [
    {
     "data": {
      "text/html": [
       "<div>\n",
       "<style scoped>\n",
       "    .dataframe tbody tr th:only-of-type {\n",
       "        vertical-align: middle;\n",
       "    }\n",
       "\n",
       "    .dataframe tbody tr th {\n",
       "        vertical-align: top;\n",
       "    }\n",
       "\n",
       "    .dataframe thead th {\n",
       "        text-align: right;\n",
       "    }\n",
       "</style>\n",
       "<table border=\"1\" class=\"dataframe\">\n",
       "  <thead>\n",
       "    <tr style=\"text-align: right;\">\n",
       "      <th></th>\n",
       "      <th>SepalLength</th>\n",
       "      <th>SepalWidth</th>\n",
       "      <th>PetalLength</th>\n",
       "      <th>PetalWidth</th>\n",
       "      <th>Class</th>\n",
       "    </tr>\n",
       "  </thead>\n",
       "  <tbody>\n",
       "    <tr>\n",
       "      <th>0</th>\n",
       "      <td>5.1</td>\n",
       "      <td>3.5</td>\n",
       "      <td>1.4</td>\n",
       "      <td>0.2</td>\n",
       "      <td>Iris-setosa</td>\n",
       "    </tr>\n",
       "    <tr>\n",
       "      <th>1</th>\n",
       "      <td>4.9</td>\n",
       "      <td>3.0</td>\n",
       "      <td>1.4</td>\n",
       "      <td>0.2</td>\n",
       "      <td>Iris-setosa</td>\n",
       "    </tr>\n",
       "    <tr>\n",
       "      <th>2</th>\n",
       "      <td>4.7</td>\n",
       "      <td>3.2</td>\n",
       "      <td>1.3</td>\n",
       "      <td>0.2</td>\n",
       "      <td>Iris-setosa</td>\n",
       "    </tr>\n",
       "    <tr>\n",
       "      <th>3</th>\n",
       "      <td>4.6</td>\n",
       "      <td>3.1</td>\n",
       "      <td>1.5</td>\n",
       "      <td>0.2</td>\n",
       "      <td>Iris-setosa</td>\n",
       "    </tr>\n",
       "    <tr>\n",
       "      <th>4</th>\n",
       "      <td>5.0</td>\n",
       "      <td>3.6</td>\n",
       "      <td>1.4</td>\n",
       "      <td>0.2</td>\n",
       "      <td>Iris-setosa</td>\n",
       "    </tr>\n",
       "    <tr>\n",
       "      <th>5</th>\n",
       "      <td>5.4</td>\n",
       "      <td>3.9</td>\n",
       "      <td>1.7</td>\n",
       "      <td>0.4</td>\n",
       "      <td>Iris-setosa</td>\n",
       "    </tr>\n",
       "    <tr>\n",
       "      <th>6</th>\n",
       "      <td>4.6</td>\n",
       "      <td>3.4</td>\n",
       "      <td>1.4</td>\n",
       "      <td>0.3</td>\n",
       "      <td>Iris-setosa</td>\n",
       "    </tr>\n",
       "    <tr>\n",
       "      <th>7</th>\n",
       "      <td>5.0</td>\n",
       "      <td>3.4</td>\n",
       "      <td>1.5</td>\n",
       "      <td>0.2</td>\n",
       "      <td>Iris-setosa</td>\n",
       "    </tr>\n",
       "    <tr>\n",
       "      <th>8</th>\n",
       "      <td>4.4</td>\n",
       "      <td>2.9</td>\n",
       "      <td>1.4</td>\n",
       "      <td>0.2</td>\n",
       "      <td>Iris-setosa</td>\n",
       "    </tr>\n",
       "    <tr>\n",
       "      <th>9</th>\n",
       "      <td>4.9</td>\n",
       "      <td>3.1</td>\n",
       "      <td>1.5</td>\n",
       "      <td>0.1</td>\n",
       "      <td>Iris-setosa</td>\n",
       "    </tr>\n",
       "  </tbody>\n",
       "</table>\n",
       "</div>"
      ],
      "text/plain": [
       "   SepalLength  SepalWidth  PetalLength  PetalWidth        Class\n",
       "0          5.1         3.5          1.4         0.2  Iris-setosa\n",
       "1          4.9         3.0          1.4         0.2  Iris-setosa\n",
       "2          4.7         3.2          1.3         0.2  Iris-setosa\n",
       "3          4.6         3.1          1.5         0.2  Iris-setosa\n",
       "4          5.0         3.6          1.4         0.2  Iris-setosa\n",
       "5          5.4         3.9          1.7         0.4  Iris-setosa\n",
       "6          4.6         3.4          1.4         0.3  Iris-setosa\n",
       "7          5.0         3.4          1.5         0.2  Iris-setosa\n",
       "8          4.4         2.9          1.4         0.2  Iris-setosa\n",
       "9          4.9         3.1          1.5         0.1  Iris-setosa"
      ]
     },
     "metadata": {},
     "output_type": "display_data"
    }
   ],
   "source": [
    "# 2. Look at the data itself.\n",
    "display(dataset.head(10))"
   ]
  },
  {
   "cell_type": "code",
   "execution_count": 29,
   "metadata": {},
   "outputs": [
    {
     "data": {
      "text/html": [
       "<div>\n",
       "<style scoped>\n",
       "    .dataframe tbody tr th:only-of-type {\n",
       "        vertical-align: middle;\n",
       "    }\n",
       "\n",
       "    .dataframe tbody tr th {\n",
       "        vertical-align: top;\n",
       "    }\n",
       "\n",
       "    .dataframe thead th {\n",
       "        text-align: right;\n",
       "    }\n",
       "</style>\n",
       "<table border=\"1\" class=\"dataframe\">\n",
       "  <thead>\n",
       "    <tr style=\"text-align: right;\">\n",
       "      <th></th>\n",
       "      <th>SepalLength</th>\n",
       "      <th>SepalWidth</th>\n",
       "      <th>PetalLength</th>\n",
       "      <th>PetalWidth</th>\n",
       "    </tr>\n",
       "  </thead>\n",
       "  <tbody>\n",
       "    <tr>\n",
       "      <th>count</th>\n",
       "      <td>150.000000</td>\n",
       "      <td>150.000000</td>\n",
       "      <td>150.000000</td>\n",
       "      <td>150.000000</td>\n",
       "    </tr>\n",
       "    <tr>\n",
       "      <th>mean</th>\n",
       "      <td>5.843333</td>\n",
       "      <td>3.054000</td>\n",
       "      <td>3.758667</td>\n",
       "      <td>1.198667</td>\n",
       "    </tr>\n",
       "    <tr>\n",
       "      <th>std</th>\n",
       "      <td>0.828066</td>\n",
       "      <td>0.433594</td>\n",
       "      <td>1.764420</td>\n",
       "      <td>0.763161</td>\n",
       "    </tr>\n",
       "    <tr>\n",
       "      <th>min</th>\n",
       "      <td>4.300000</td>\n",
       "      <td>2.000000</td>\n",
       "      <td>1.000000</td>\n",
       "      <td>0.100000</td>\n",
       "    </tr>\n",
       "    <tr>\n",
       "      <th>25%</th>\n",
       "      <td>5.100000</td>\n",
       "      <td>2.800000</td>\n",
       "      <td>1.600000</td>\n",
       "      <td>0.300000</td>\n",
       "    </tr>\n",
       "    <tr>\n",
       "      <th>50%</th>\n",
       "      <td>5.800000</td>\n",
       "      <td>3.000000</td>\n",
       "      <td>4.350000</td>\n",
       "      <td>1.300000</td>\n",
       "    </tr>\n",
       "    <tr>\n",
       "      <th>75%</th>\n",
       "      <td>6.400000</td>\n",
       "      <td>3.300000</td>\n",
       "      <td>5.100000</td>\n",
       "      <td>1.800000</td>\n",
       "    </tr>\n",
       "    <tr>\n",
       "      <th>max</th>\n",
       "      <td>7.900000</td>\n",
       "      <td>4.400000</td>\n",
       "      <td>6.900000</td>\n",
       "      <td>2.500000</td>\n",
       "    </tr>\n",
       "  </tbody>\n",
       "</table>\n",
       "</div>"
      ],
      "text/plain": [
       "       SepalLength  SepalWidth  PetalLength  PetalWidth\n",
       "count   150.000000  150.000000   150.000000  150.000000\n",
       "mean      5.843333    3.054000     3.758667    1.198667\n",
       "std       0.828066    0.433594     1.764420    0.763161\n",
       "min       4.300000    2.000000     1.000000    0.100000\n",
       "25%       5.100000    2.800000     1.600000    0.300000\n",
       "50%       5.800000    3.000000     4.350000    1.300000\n",
       "75%       6.400000    3.300000     5.100000    1.800000\n",
       "max       7.900000    4.400000     6.900000    2.500000"
      ]
     },
     "metadata": {},
     "output_type": "display_data"
    }
   ],
   "source": [
    "# 3. Statistical Summary\n",
    "display(dataset.describe()) # it will identify numeric data automatically"
   ]
  },
  {
   "cell_type": "code",
   "execution_count": 31,
   "metadata": {},
   "outputs": [
    {
     "name": "stdout",
     "output_type": "stream",
     "text": [
      "Class\n",
      "Iris-setosa        50\n",
      "Iris-versicolor    50\n",
      "Iris-virginica     50\n",
      "dtype: int64\n"
     ]
    }
   ],
   "source": [
    "# 4. Class Distribution\n",
    "print(dataset.groupby('Class').size())"
   ]
  },
  {
   "cell_type": "markdown",
   "metadata": {},
   "source": [
    "# Data Visualization\n",
    "\n",
    "We are going to look at two types of plots:\n",
    "\n",
    "1. Univariate plots to better understand each attribute.\n",
    "2. Multivariate plots to better understand the relationships between attributes."
   ]
  },
  {
   "cell_type": "markdown",
   "metadata": {},
   "source": [
    " ### Univariate Plots"
   ]
  },
  {
   "cell_type": "code",
   "execution_count": 37,
   "metadata": {},
   "outputs": [
    {
     "data": {
      "image/png": "[encoded data removed]",
      "text/plain": [
       "<Figure size 432x288 with 4 Axes>"
      ]
     },
     "metadata": {},
     "output_type": "display_data"
    }
   ],
   "source": [
    "# box and whisker plots\n",
    "dataset.plot(kind='box', subplots=True, layout=(2,2), sharex=False, sharey=False)\n",
    "matplotlib.pyplot.show()"
   ]
  },
  {
   "cell_type": "code",
   "execution_count": 38,
   "metadata": {},
   "outputs": [
    {
     "data": {
      "image/png": "[encoded data removed]",
      "text/plain": [
       "<Figure size 432x288 with 4 Axes>"
      ]
     },
     "metadata": {},
     "output_type": "display_data"
    }
   ],
   "source": [
    "# histograms\n",
    "dataset.hist()\n",
    "matplotlib.pyplot.show()"
   ]
  },
  {
   "cell_type": "markdown",
   "metadata": {},
   "source": [
    "### Multivariate Plots\n",
    "\n",
    "Now we can look at the interactions between the variables.\n",
    "\n",
    "First, let’s look at scatterplots of all pairs of attributes. This can be helpful to spot structured relationships between input variables."
   ]
  },
  {
   "cell_type": "code",
   "execution_count": 41,
   "metadata": {},
   "outputs": [
    {
     "name": "stderr",
     "output_type": "stream",
     "text": [
      "/anaconda3/lib/python3.6/site-packages/ipykernel_launcher.py:2: FutureWarning: pandas.scatter_matrix is deprecated, use pandas.plotting.scatter_matrix instead\n",
      "  \n"
     ]
    },
    {
     "data": {
      "image/png": "[encoded data removed]",
      "text/plain": [
       "<Figure size 432x288 with 16 Axes>"
      ]
     },
     "metadata": {},
     "output_type": "display_data"
    }
   ],
   "source": [
    "# scatter plot matrix\n",
    "pandas.scatter_matrix(dataset)\n",
    "matplotlib.pyplot.show()"
   ]
  },
  {
   "cell_type": "markdown",
   "metadata": {},
   "source": [
    "# Evaluate Some Algorithms\n",
    "\n",
    "Here is what we are going to cover in this step:\n",
    "\n",
    "1. Separate out a validation dataset.\n",
    "2. Build 5 different models to predict species from flower measurements\n",
    "3. Select the best model."
   ]
  },
  {
   "cell_type": "markdown",
   "metadata": {},
   "source": [
    "### 1. Create a Validation Dataset\n",
    "\n",
    "We will split the loaded dataset into two, 80% of which we will use to train our models and 20% that we will hold back as a validation dataset."
   ]
  },
  {
   "cell_type": "code",
   "execution_count": 148,
   "metadata": {},
   "outputs": [],
   "source": [
    "# Split-out validation dataset\n",
    "array = dataset.values\n",
    "X = array[:,0:4]\n",
    "Y = array[:,4]\n",
    "validation_size = 0.20\n",
    "seed = 100\n",
    "X_train, X_test, Y_train, Y_test = sklearn.model_selection.train_test_split(X, Y, test_size=validation_size, random_state=seed)"
   ]
  },
  {
   "cell_type": "code",
   "execution_count": 53,
   "metadata": {},
   "outputs": [],
   "source": [
    "seed = 100"
   ]
  },
  {
   "cell_type": "markdown",
   "metadata": {},
   "source": [
    "### 2. Build Models\n",
    "\n",
    "We don’t know which algorithms would be good on this problem or what configurations to use. We get an idea from the plots that some of the classes are partially linearly separable in some dimensions, so we are expecting generally good results.\n",
    "\n",
    "Let’s evaluate 6 different algorithms:\n",
    "\n",
    "1. Logistic Regression (LR)\n",
    "2. Linear Discriminant Analysis (LDA)\n",
    "3. K-Nearest Neighbors (KNN).\n",
    "4. Classification and Regression Trees (CART).\n",
    "5. Gaussian Naive Bayes (NB).\n",
    "6. Support Vector Machines (SVM).\n",
    "\n",
    "\n",
    "This is a good mixture of simple linear (LR and LDA), nonlinear (KNN, CART, NB and SVM) algorithms. We reset the random number seed before each run to ensure that the evaluation of each algorithm is performed using exactly the same data splits. It ensures the results are directly comparable."
   ]
  },
  {
   "cell_type": "code",
   "execution_count": 200,
   "metadata": {},
   "outputs": [],
   "source": [
    "# Algorithms\n",
    "model_LR=sklearn.linear_model.LogisticRegression()\n",
    "model_LDA=sklearn.discriminant_analysis.LinearDiscriminantAnalysis()\n",
    "model_KNN= sklearn.neighbors.KNeighborsClassifier()\n",
    "model_CART=sklearn.tree.DecisionTreeClassifier()\n",
    "model_NB=sklearn.naive_bayes.GaussianNB()\n",
    "model_SVM=sklearn.svm.SVC()"
   ]
  },
  {
   "cell_type": "markdown",
   "metadata": {},
   "source": [
    "#### Fitting Model"
   ]
  },
  {
   "cell_type": "code",
   "execution_count": 282,
   "metadata": {},
   "outputs": [
    {
     "data": {
      "text/plain": [
       "SVC(C=1.0, cache_size=200, class_weight=None, coef0=0.0,\n",
       "  decision_function_shape='ovr', degree=3, gamma='auto', kernel='rbf',\n",
       "  max_iter=-1, probability=False, random_state=None, shrinking=True,\n",
       "  tol=0.001, verbose=False)"
      ]
     },
     "execution_count": 282,
     "metadata": {},
     "output_type": "execute_result"
    }
   ],
   "source": [
    "model_LR.fit(X_train,Y_train)\n",
    "model_LDA.fit(X_train,Y_train)\n",
    "model_KNN.fit(X_train,Y_train)\n",
    "model_CART.fit(X_train,Y_train)\n",
    "model_NB.fit(X_train,Y_train)\n",
    "model_SVM.fit(X_train,Y_train)"
   ]
  },
  {
   "cell_type": "markdown",
   "metadata": {},
   "source": [
    "#### Making Predictions"
   ]
  },
  {
   "cell_type": "code",
   "execution_count": 151,
   "metadata": {},
   "outputs": [],
   "source": [
    "# for Train dataset\n",
    "trainResult_LR=model_LR.predict(X_train)\n",
    "trainResult_LDA=model_LDA.predict(X_train)\n",
    "trainResult_KNN=model_KNN.predict(X_train)\n",
    "trainResult_CART=model_CART.predict(X_train)\n",
    "trainResult_NB=model_NB.predict(X_train)\n",
    "trainResult_SVM=model_SVM.predict(X_train)\n",
    "\n",
    "\n",
    "# for test dataset\n",
    "testResult_LR=model_LR.predict(X_test)\n",
    "testResult_LDA=model_LDA.predict(X_test)\n",
    "testResult_KNN=model_KNN.predict(X_test)\n",
    "testResult_CART=model_CART.predict(X_test)\n",
    "testResult_NB=model_NB.predict(X_test)\n",
    "testResult_SVM=model_SVM.predict(X_test)\n",
    "\n"
   ]
  },
  {
   "cell_type": "markdown",
   "metadata": {},
   "source": [
    "#### Combine result of all models"
   ]
  },
  {
   "cell_type": "code",
   "execution_count": 153,
   "metadata": {},
   "outputs": [
    {
     "data": {
      "text/html": [
       "<div>\n",
       "<style scoped>\n",
       "    .dataframe tbody tr th:only-of-type {\n",
       "        vertical-align: middle;\n",
       "    }\n",
       "\n",
       "    .dataframe tbody tr th {\n",
       "        vertical-align: top;\n",
       "    }\n",
       "\n",
       "    .dataframe thead th {\n",
       "        text-align: right;\n",
       "    }\n",
       "</style>\n",
       "<table border=\"1\" class=\"dataframe\">\n",
       "  <thead>\n",
       "    <tr style=\"text-align: right;\">\n",
       "      <th></th>\n",
       "      <th>Actual</th>\n",
       "      <th>LR</th>\n",
       "      <th>LDA</th>\n",
       "      <th>KNN</th>\n",
       "      <th>CART</th>\n",
       "      <th>NB</th>\n",
       "      <th>SVM</th>\n",
       "    </tr>\n",
       "  </thead>\n",
       "  <tbody>\n",
       "    <tr>\n",
       "      <th>0</th>\n",
       "      <td>Iris-virginica</td>\n",
       "      <td>Iris-virginica</td>\n",
       "      <td>Iris-virginica</td>\n",
       "      <td>Iris-virginica</td>\n",
       "      <td>Iris-virginica</td>\n",
       "      <td>Iris-virginica</td>\n",
       "      <td>Iris-virginica</td>\n",
       "    </tr>\n",
       "    <tr>\n",
       "      <th>1</th>\n",
       "      <td>Iris-versicolor</td>\n",
       "      <td>Iris-versicolor</td>\n",
       "      <td>Iris-versicolor</td>\n",
       "      <td>Iris-versicolor</td>\n",
       "      <td>Iris-versicolor</td>\n",
       "      <td>Iris-versicolor</td>\n",
       "      <td>Iris-versicolor</td>\n",
       "    </tr>\n",
       "    <tr>\n",
       "      <th>2</th>\n",
       "      <td>Iris-setosa</td>\n",
       "      <td>Iris-setosa</td>\n",
       "      <td>Iris-setosa</td>\n",
       "      <td>Iris-setosa</td>\n",
       "      <td>Iris-setosa</td>\n",
       "      <td>Iris-setosa</td>\n",
       "      <td>Iris-setosa</td>\n",
       "    </tr>\n",
       "    <tr>\n",
       "      <th>3</th>\n",
       "      <td>Iris-virginica</td>\n",
       "      <td>Iris-virginica</td>\n",
       "      <td>Iris-virginica</td>\n",
       "      <td>Iris-virginica</td>\n",
       "      <td>Iris-virginica</td>\n",
       "      <td>Iris-virginica</td>\n",
       "      <td>Iris-virginica</td>\n",
       "    </tr>\n",
       "    <tr>\n",
       "      <th>4</th>\n",
       "      <td>Iris-versicolor</td>\n",
       "      <td>Iris-versicolor</td>\n",
       "      <td>Iris-versicolor</td>\n",
       "      <td>Iris-versicolor</td>\n",
       "      <td>Iris-versicolor</td>\n",
       "      <td>Iris-versicolor</td>\n",
       "      <td>Iris-versicolor</td>\n",
       "    </tr>\n",
       "    <tr>\n",
       "      <th>5</th>\n",
       "      <td>Iris-setosa</td>\n",
       "      <td>Iris-setosa</td>\n",
       "      <td>Iris-setosa</td>\n",
       "      <td>Iris-setosa</td>\n",
       "      <td>Iris-setosa</td>\n",
       "      <td>Iris-setosa</td>\n",
       "      <td>Iris-setosa</td>\n",
       "    </tr>\n",
       "    <tr>\n",
       "      <th>6</th>\n",
       "      <td>Iris-setosa</td>\n",
       "      <td>Iris-setosa</td>\n",
       "      <td>Iris-setosa</td>\n",
       "      <td>Iris-setosa</td>\n",
       "      <td>Iris-setosa</td>\n",
       "      <td>Iris-setosa</td>\n",
       "      <td>Iris-setosa</td>\n",
       "    </tr>\n",
       "    <tr>\n",
       "      <th>7</th>\n",
       "      <td>Iris-setosa</td>\n",
       "      <td>Iris-setosa</td>\n",
       "      <td>Iris-setosa</td>\n",
       "      <td>Iris-setosa</td>\n",
       "      <td>Iris-setosa</td>\n",
       "      <td>Iris-setosa</td>\n",
       "      <td>Iris-setosa</td>\n",
       "    </tr>\n",
       "    <tr>\n",
       "      <th>8</th>\n",
       "      <td>Iris-setosa</td>\n",
       "      <td>Iris-setosa</td>\n",
       "      <td>Iris-setosa</td>\n",
       "      <td>Iris-setosa</td>\n",
       "      <td>Iris-setosa</td>\n",
       "      <td>Iris-setosa</td>\n",
       "      <td>Iris-setosa</td>\n",
       "    </tr>\n",
       "    <tr>\n",
       "      <th>9</th>\n",
       "      <td>Iris-virginica</td>\n",
       "      <td>Iris-virginica</td>\n",
       "      <td>Iris-virginica</td>\n",
       "      <td>Iris-virginica</td>\n",
       "      <td>Iris-virginica</td>\n",
       "      <td>Iris-virginica</td>\n",
       "      <td>Iris-virginica</td>\n",
       "    </tr>\n",
       "  </tbody>\n",
       "</table>\n",
       "</div>"
      ],
      "text/plain": [
       "            Actual               LR              LDA              KNN  \\\n",
       "0   Iris-virginica   Iris-virginica   Iris-virginica   Iris-virginica   \n",
       "1  Iris-versicolor  Iris-versicolor  Iris-versicolor  Iris-versicolor   \n",
       "2      Iris-setosa      Iris-setosa      Iris-setosa      Iris-setosa   \n",
       "3   Iris-virginica   Iris-virginica   Iris-virginica   Iris-virginica   \n",
       "4  Iris-versicolor  Iris-versicolor  Iris-versicolor  Iris-versicolor   \n",
       "5      Iris-setosa      Iris-setosa      Iris-setosa      Iris-setosa   \n",
       "6      Iris-setosa      Iris-setosa      Iris-setosa      Iris-setosa   \n",
       "7      Iris-setosa      Iris-setosa      Iris-setosa      Iris-setosa   \n",
       "8      Iris-setosa      Iris-setosa      Iris-setosa      Iris-setosa   \n",
       "9   Iris-virginica   Iris-virginica   Iris-virginica   Iris-virginica   \n",
       "\n",
       "              CART               NB              SVM  \n",
       "0   Iris-virginica   Iris-virginica   Iris-virginica  \n",
       "1  Iris-versicolor  Iris-versicolor  Iris-versicolor  \n",
       "2      Iris-setosa      Iris-setosa      Iris-setosa  \n",
       "3   Iris-virginica   Iris-virginica   Iris-virginica  \n",
       "4  Iris-versicolor  Iris-versicolor  Iris-versicolor  \n",
       "5      Iris-setosa      Iris-setosa      Iris-setosa  \n",
       "6      Iris-setosa      Iris-setosa      Iris-setosa  \n",
       "7      Iris-setosa      Iris-setosa      Iris-setosa  \n",
       "8      Iris-setosa      Iris-setosa      Iris-setosa  \n",
       "9   Iris-virginica   Iris-virginica   Iris-virginica  "
      ]
     },
     "metadata": {},
     "output_type": "display_data"
    }
   ],
   "source": [
    "trainResult=pandas.DataFrame([Y_train,trainResult_LR,trainResult_LDA,trainResult_KNN,trainResult_CART,trainResult_NB,trainResult_SVM]).T\n",
    "trainResult.columns=['Actual','LR','LDA','KNN','CART','NB','SVM']\n",
    "display(result.head(10))"
   ]
  },
  {
   "cell_type": "markdown",
   "metadata": {},
   "source": [
    "### 3. Evaluation\n",
    "1. Accuracy score\n",
    "2. Confusion Matrix\n",
    "3. Classification Report\n",
    "\n",
    "\n",
    "#### Logistic Regression Evaluation"
   ]
  },
  {
   "cell_type": "code",
   "execution_count": 156,
   "metadata": {},
   "outputs": [
    {
     "name": "stdout",
     "output_type": "stream",
     "text": [
      "0.975\n",
      "[[43  0  0]\n",
      " [ 0 35  3]\n",
      " [ 0  0 39]]\n",
      "                 precision    recall  f1-score   support\n",
      "\n",
      "    Iris-setosa       1.00      1.00      1.00        43\n",
      "Iris-versicolor       1.00      0.92      0.96        38\n",
      " Iris-virginica       0.93      1.00      0.96        39\n",
      "\n",
      "    avg / total       0.98      0.97      0.97       120\n",
      "\n",
      "--------------------------------------------------------------\n",
      "0.8\n",
      "[[ 7  0  0]\n",
      " [ 0  7  5]\n",
      " [ 0  1 10]]\n",
      "                 precision    recall  f1-score   support\n",
      "\n",
      "    Iris-setosa       1.00      1.00      1.00         7\n",
      "Iris-versicolor       0.88      0.58      0.70        12\n",
      " Iris-virginica       0.67      0.91      0.77        11\n",
      "\n",
      "    avg / total       0.83      0.80      0.80        30\n",
      "\n"
     ]
    }
   ],
   "source": [
    "# Train\n",
    "\n",
    "print(sklearn.metrics.accuracy_score(Y_train, trainResult_LR))\n",
    "print(sklearn.metrics.confusion_matrix(Y_train, trainResult_LR))\n",
    "print(sklearn.metrics.classification_report(Y_train, trainResult_LR))\n",
    "print('--------------------------------------------------------------')\n",
    "\n",
    "# Test\n",
    "print(sklearn.metrics.accuracy_score(Y_test, testResult_LR))\n",
    "print(sklearn.metrics.confusion_matrix(Y_test, testResult_LR))\n",
    "print(sklearn.metrics.classification_report(Y_test, testResult_LR))"
   ]
  },
  {
   "cell_type": "markdown",
   "metadata": {},
   "source": [
    "#### Linear Discriminant Analysis (LDA) Evaluation"
   ]
  },
  {
   "cell_type": "code",
   "execution_count": 158,
   "metadata": {},
   "outputs": [
    {
     "name": "stdout",
     "output_type": "stream",
     "text": [
      "0.9833333333333333\n",
      "[[43  0  0]\n",
      " [ 0 37  1]\n",
      " [ 0  1 38]]\n",
      "                 precision    recall  f1-score   support\n",
      "\n",
      "    Iris-setosa       1.00      1.00      1.00        43\n",
      "Iris-versicolor       0.97      0.97      0.97        38\n",
      " Iris-virginica       0.97      0.97      0.97        39\n",
      "\n",
      "    avg / total       0.98      0.98      0.98       120\n",
      "\n",
      "--------------------------------------------------------------\n",
      "0.9666666666666667\n",
      "[[ 7  0  0]\n",
      " [ 0 11  1]\n",
      " [ 0  0 11]]\n",
      "                 precision    recall  f1-score   support\n",
      "\n",
      "    Iris-setosa       1.00      1.00      1.00         7\n",
      "Iris-versicolor       1.00      0.92      0.96        12\n",
      " Iris-virginica       0.92      1.00      0.96        11\n",
      "\n",
      "    avg / total       0.97      0.97      0.97        30\n",
      "\n"
     ]
    }
   ],
   "source": [
    "# Train\n",
    "\n",
    "print(sklearn.metrics.accuracy_score(Y_train, trainResult_LDA))\n",
    "print(sklearn.metrics.confusion_matrix(Y_train, trainResult_LDA))\n",
    "print(sklearn.metrics.classification_report(Y_train, trainResult_LDA))\n",
    "print('--------------------------------------------------------------')\n",
    "\n",
    "# Test\n",
    "print(sklearn.metrics.accuracy_score(Y_test, testResult_LDA))\n",
    "print(sklearn.metrics.confusion_matrix(Y_test, testResult_LDA))\n",
    "print(sklearn.metrics.classification_report(Y_test, testResult_LDA))"
   ]
  },
  {
   "cell_type": "markdown",
   "metadata": {},
   "source": [
    "#### K-Nearest Neighbors (KNN) Evaluation"
   ]
  },
  {
   "cell_type": "code",
   "execution_count": 161,
   "metadata": {},
   "outputs": [
    {
     "name": "stdout",
     "output_type": "stream",
     "text": [
      "0.9833333333333333\n",
      "[[43  0  0]\n",
      " [ 0 36  2]\n",
      " [ 0  0 39]]\n",
      "                 precision    recall  f1-score   support\n",
      "\n",
      "    Iris-setosa       1.00      1.00      1.00        43\n",
      "Iris-versicolor       1.00      0.95      0.97        38\n",
      " Iris-virginica       0.95      1.00      0.97        39\n",
      "\n",
      "    avg / total       0.98      0.98      0.98       120\n",
      "\n",
      "--------------------------------------------------------------\n",
      "0.9\n",
      "[[ 7  0  0]\n",
      " [ 0 11  1]\n",
      " [ 0  2  9]]\n",
      "                 precision    recall  f1-score   support\n",
      "\n",
      "    Iris-setosa       1.00      1.00      1.00         7\n",
      "Iris-versicolor       0.85      0.92      0.88        12\n",
      " Iris-virginica       0.90      0.82      0.86        11\n",
      "\n",
      "    avg / total       0.90      0.90      0.90        30\n",
      "\n"
     ]
    }
   ],
   "source": [
    "# Train\n",
    "\n",
    "print(sklearn.metrics.accuracy_score(Y_train, trainResult_KNN))\n",
    "print(sklearn.metrics.confusion_matrix(Y_train, trainResult_KNN))\n",
    "print(sklearn.metrics.classification_report(Y_train, trainResult_KNN))\n",
    "print('--------------------------------------------------------------')\n",
    "\n",
    "# Test\n",
    "print(sklearn.metrics.accuracy_score(Y_test, testResult_KNN))\n",
    "print(sklearn.metrics.confusion_matrix(Y_test, testResult_KNN))\n",
    "print(sklearn.metrics.classification_report(Y_test, testResult_KNN))"
   ]
  },
  {
   "cell_type": "markdown",
   "metadata": {},
   "source": [
    "#### Classification and Regression Trees (CART) Evaluation\n",
    "\n",
    "Decision tree has overfitted the training dataset. 100% accuracy in train dataset and low accuracy in test dataset."
   ]
  },
  {
   "cell_type": "code",
   "execution_count": 164,
   "metadata": {},
   "outputs": [
    {
     "name": "stdout",
     "output_type": "stream",
     "text": [
      "1.0\n",
      "[[43  0  0]\n",
      " [ 0 38  0]\n",
      " [ 0  0 39]]\n",
      "                 precision    recall  f1-score   support\n",
      "\n",
      "    Iris-setosa       1.00      1.00      1.00        43\n",
      "Iris-versicolor       1.00      1.00      1.00        38\n",
      " Iris-virginica       1.00      1.00      1.00        39\n",
      "\n",
      "    avg / total       1.00      1.00      1.00       120\n",
      "\n",
      "--------------------------------------------------------------\n",
      "0.8666666666666667\n",
      "[[ 7  0  0]\n",
      " [ 0 11  1]\n",
      " [ 0  3  8]]\n",
      "                 precision    recall  f1-score   support\n",
      "\n",
      "    Iris-setosa       1.00      1.00      1.00         7\n",
      "Iris-versicolor       0.79      0.92      0.85        12\n",
      " Iris-virginica       0.89      0.73      0.80        11\n",
      "\n",
      "    avg / total       0.87      0.87      0.87        30\n",
      "\n"
     ]
    }
   ],
   "source": [
    "# Train\n",
    "\n",
    "print(sklearn.metrics.accuracy_score(Y_train, trainResult_CART))\n",
    "print(sklearn.metrics.confusion_matrix(Y_train, trainResult_CART))\n",
    "print(sklearn.metrics.classification_report(Y_train, trainResult_CART))\n",
    "print('--------------------------------------------------------------')\n",
    "\n",
    "# Test\n",
    "print(sklearn.metrics.accuracy_score(Y_test, testResult_CART))\n",
    "print(sklearn.metrics.confusion_matrix(Y_test, testResult_CART))\n",
    "print(sklearn.metrics.classification_report(Y_test, testResult_CART))"
   ]
  },
  {
   "cell_type": "markdown",
   "metadata": {},
   "source": [
    "#### Gaussian Naive Bayes (NB) Evaluation"
   ]
  },
  {
   "cell_type": "code",
   "execution_count": 171,
   "metadata": {},
   "outputs": [
    {
     "name": "stdout",
     "output_type": "stream",
     "text": [
      "0.9833333333333333\n",
      "[[43  0  0]\n",
      " [ 0 38  0]\n",
      " [ 0  2 37]]\n",
      "                 precision    recall  f1-score   support\n",
      "\n",
      "    Iris-setosa       1.00      1.00      1.00        43\n",
      "Iris-versicolor       0.95      1.00      0.97        38\n",
      " Iris-virginica       1.00      0.95      0.97        39\n",
      "\n",
      "    avg / total       0.98      0.98      0.98       120\n",
      "\n",
      "--------------------------------------------------------------\n",
      "0.8333333333333334\n",
      "[[7 0 0]\n",
      " [0 9 3]\n",
      " [0 2 9]]\n",
      "                 precision    recall  f1-score   support\n",
      "\n",
      "    Iris-setosa       1.00      1.00      1.00         7\n",
      "Iris-versicolor       0.82      0.75      0.78        12\n",
      " Iris-virginica       0.75      0.82      0.78        11\n",
      "\n",
      "    avg / total       0.84      0.83      0.83        30\n",
      "\n"
     ]
    }
   ],
   "source": [
    "# Train\n",
    "\n",
    "print(sklearn.metrics.accuracy_score(Y_train, trainResult_NB))\n",
    "print(sklearn.metrics.confusion_matrix(Y_train, trainResult_NB))\n",
    "print(sklearn.metrics.classification_report(Y_train, trainResult_NB))\n",
    "print('--------------------------------------------------------------')\n",
    "\n",
    "# Test\n",
    "print(sklearn.metrics.accuracy_score(Y_test, testResult_NB))\n",
    "print(sklearn.metrics.confusion_matrix(Y_test, testResult_NB))\n",
    "print(sklearn.metrics.classification_report(Y_test, testResult_NB))"
   ]
  },
  {
   "cell_type": "markdown",
   "metadata": {},
   "source": [
    "#### Support Vector Machines (SVM) Evaluation"
   ]
  },
  {
   "cell_type": "code",
   "execution_count": 169,
   "metadata": {},
   "outputs": [
    {
     "name": "stdout",
     "output_type": "stream",
     "text": [
      "0.9916666666666667\n",
      "[[43  0  0]\n",
      " [ 0 37  1]\n",
      " [ 0  0 39]]\n",
      "                 precision    recall  f1-score   support\n",
      "\n",
      "    Iris-setosa       1.00      1.00      1.00        43\n",
      "Iris-versicolor       1.00      0.97      0.99        38\n",
      " Iris-virginica       0.97      1.00      0.99        39\n",
      "\n",
      "    avg / total       0.99      0.99      0.99       120\n",
      "\n",
      "--------------------------------------------------------------\n",
      "0.9333333333333333\n",
      "[[ 7  0  0]\n",
      " [ 0 10  2]\n",
      " [ 0  0 11]]\n",
      "                 precision    recall  f1-score   support\n",
      "\n",
      "    Iris-setosa       1.00      1.00      1.00         7\n",
      "Iris-versicolor       1.00      0.83      0.91        12\n",
      " Iris-virginica       0.85      1.00      0.92        11\n",
      "\n",
      "    avg / total       0.94      0.93      0.93        30\n",
      "\n"
     ]
    }
   ],
   "source": [
    "# Train\n",
    "\n",
    "print(sklearn.metrics.accuracy_score(Y_train, trainResult_SVM))\n",
    "print(sklearn.metrics.confusion_matrix(Y_train, trainResult_SVM))\n",
    "print(sklearn.metrics.classification_report(Y_train, trainResult_SVM))\n",
    "print('--------------------------------------------------------------')\n",
    "\n",
    "# Test\n",
    "print(sklearn.metrics.accuracy_score(Y_test, testResult_SVM))\n",
    "print(sklearn.metrics.confusion_matrix(Y_test, testResult_SVM))\n",
    "print(sklearn.metrics.classification_report(Y_test, testResult_SVM))"
   ]
  },
  {
   "cell_type": "markdown",
   "metadata": {},
   "source": [
    "# Result\n",
    "\n",
    "Accuracy for train and test\n",
    "    * LR   - 0.97 and 0.80\n",
    "    * LDA  - 0.98 and 0.96\n",
    "    * KNN  - 0.98 and 0.90\n",
    "    * CART - 1.00 and 0.86\n",
    "    * NB   - 0.98 and 0.83\n",
    "    * SVM  - 0.99 and 0.93\n",
    "     \n",
    "\n",
    "CART seems overfitted to training dataset.\n",
    "Also LR, KNN, NB has high accuracy for Train dataset and low accuracy for test dataset."
   ]
  },
  {
   "cell_type": "markdown",
   "metadata": {},
   "source": [
    "# Cross Validation (with 10 folds)\n",
    "\n",
    "\n",
    "We will use 10-fold cross validation to estimate accuracy.\n",
    "\n",
    "This will split our dataset into 10 parts, train on 9 and test on 1 and repeat for all combinations of train-test splits.\n",
    "\n",
    "We are using the metric of ‘accuracy‘ to evaluate models. This is a ratio of the number of correctly predicted instances in divided by the total number of instances in the dataset multiplied by 100 to give a percentage (e.g. 95% accurate). We will be using the scoring variable when we run build and evaluate each model next."
   ]
  },
  {
   "cell_type": "code",
   "execution_count": 278,
   "metadata": {},
   "outputs": [
    {
     "name": "stdout",
     "output_type": "stream",
     "text": [
      "train: [3 4 5 6 7 8 9], test: [0 1 2]\n",
      "train: [0 1 2 6 7 8 9], test: [3 4 5]\n",
      "train: [0 1 2 3 4 5 8 9], test: [6 7]\n",
      "train: [0 1 2 3 4 5 6 7], test: [8 9]\n"
     ]
    }
   ],
   "source": [
    "# Toy Example to see how cross validation works\n",
    "X_data=[1,2,3,4,5,6,7,8,9,0]\n",
    "Y_data=[10,20,30,40,50,60,70,80,90,00]\n",
    "kfold = sklearn.model_selection.KFold(n_splits=4, random_state=seed)\n",
    "for train, test in kfold.split(X_data,Y_data):\n",
    "    print('train: %s, test: %s' % (train, test))"
   ]
  },
  {
   "cell_type": "code",
   "execution_count": 267,
   "metadata": {},
   "outputs": [
    {
     "name": "stdout",
     "output_type": "stream",
     "text": [
      "0.9666666666666667\n"
     ]
    }
   ],
   "source": [
    "kfold = sklearn.model_selection.KFold(n_splits=10, random_state=seed)\n",
    "cvTestResults_LR = sklearn.model_selection.cross_val_predict(model_LR, X_train,Y_train, cv=kfold)\n",
    "print(sklearn.metrics.accuracy_score(Y_train, cvTestResults_LR))"
   ]
  },
  {
   "cell_type": "code",
   "execution_count": 268,
   "metadata": {},
   "outputs": [
    {
     "name": "stdout",
     "output_type": "stream",
     "text": [
      "0.9666666666666666\n"
     ]
    }
   ],
   "source": [
    "cv_results = sklearn.model_selection.cross_val_score(model_LR, X_train, Y_train, cv=kfold, scoring='accuracy')\n",
    "print(cv_results.mean())"
   ]
  },
  {
   "cell_type": "code",
   "execution_count": 276,
   "metadata": {},
   "outputs": [
    {
     "name": "stdout",
     "output_type": "stream",
     "text": [
      "LR   - 0.966667 0.833333\n",
      "LDA  - 0.975000 0.966667\n",
      "KNN  - 0.983333 0.900000\n",
      "CART - 0.975000 0.800000\n",
      "NB   - 0.975000 0.800000\n",
      "SVM  - 0.991667 0.900000\n"
     ]
    },
    {
     "name": "stderr",
     "output_type": "stream",
     "text": [
      "/anaconda3/lib/python3.6/site-packages/sklearn/discriminant_analysis.py:442: UserWarning: The priors do not sum to 1. Renormalizing\n",
      "  UserWarning)\n",
      "/anaconda3/lib/python3.6/site-packages/sklearn/discriminant_analysis.py:442: UserWarning: The priors do not sum to 1. Renormalizing\n",
      "  UserWarning)\n",
      "/anaconda3/lib/python3.6/site-packages/sklearn/discriminant_analysis.py:442: UserWarning: The priors do not sum to 1. Renormalizing\n",
      "  UserWarning)\n"
     ]
    }
   ],
   "source": [
    "# evaluate each model in turn\n",
    "# cross validation\n",
    "models = [model_LR,model_LDA, model_KNN,model_CART,model_NB,model_SVM]\n",
    "names=['LR  ','LDA ','KNN ','CART','NB  ','SVM ']\n",
    "for name,model in zip(names,models):\n",
    "    kfold = sklearn.model_selection.KFold(n_splits=10, random_state=seed)\n",
    "    cv_results_train = sklearn.model_selection.cross_val_score(model, X_train, Y_train, cv=kfold, scoring='accuracy')\n",
    "    cv_results_test = sklearn.model_selection.cross_val_score(model, X_test, Y_test, cv=kfold, scoring='accuracy')\n",
    "    msg = \"%s - %f %f\" % (name,cv_results_train.mean(), cv_results_test.mean())\n",
    "    print(msg)"
   ]
  },
  {
   "cell_type": "markdown",
   "metadata": {},
   "source": [
    "#### Linear discriminant analysis works well on this dataset "
   ]
  },
  {
   "cell_type": "code",
   "execution_count": null,
   "metadata": {},
   "outputs": [],
   "source": []
  }
 ],
 "metadata": {
  "kernelspec": {
   "display_name": "Python 3",
   "language": "python",
   "name": "python3"
  },
  "language_info": {
   "codemirror_mode": {
    "name": "ipython",
    "version": 3
   },
   "file_extension": ".py",
   "mimetype": "text/x-python",
   "name": "python",
   "nbconvert_exporter": "python",
   "pygments_lexer": "ipython3",
   "version": "3.6.4"
  }
 },
 "nbformat": 4,
 "nbformat_minor": 2
}
